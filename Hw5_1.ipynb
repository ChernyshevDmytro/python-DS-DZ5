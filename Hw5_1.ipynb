{
  "nbformat": 4,
  "nbformat_minor": 0,
  "metadata": {
    "colab": {
      "provenance": [],
      "collapsed_sections": []
    },
    "kernelspec": {
      "name": "python3",
      "display_name": "Python 3"
    },
    "language_info": {
      "name": "python"
    }
  },
  "cells": [
    {
      "cell_type": "markdown",
      "source": [
        "Первая часть#\n",
        "Для прямоугольной области площадью 1000 м2, примыкающей к прямому участку реки, необходимо построить ограду (причем со стороны реки ограду строить не нужно). При каких размерах области a, b длина ограды будет минимальной? Используйте функцию minimize с параметрами ограничениями bounds и constraints\n",
        "\n",
        "Данную часть ДЗ сдать в виде Jupyter файла Hw5.1.ipynb"
      ],
      "metadata": {
        "id": "ljdU0JOMjiZF"
      }
    },
    {
      "cell_type": "code",
      "source": [
        "\n",
        "\n",
        "\n",
        "from scipy.optimize import minimize\n",
        "import numpy as np\n",
        "\n",
        "S=1000\n",
        "#a - короткая сторона\n",
        "#b - длинная сторона\n",
        "#Pзабор = 2*a+b\n",
        "#S=a*b\n",
        "\n",
        "\n",
        "def f(arg):\n",
        "    a, b = arg\n",
        "    return 2 * a  + b\n",
        "\n",
        "abounds = (1, 1000)\n",
        "bbounds = (1, 1000)\n",
        "bounds = (abounds, bbounds)\n",
        "\n",
        "cons = ({'type': 'eq', 'fun': lambda x:  S - x[0] * x[1] },)\n",
        "result = minimize(f, [100, 100], bounds=bounds, method='slsqp', constraints=cons)    \n",
        "\n",
        "print(f\"Длина стенок ограды 2х {np.round(result.x[0], 3)} метров и 1х {np.round(result.x[1], 3)} метров.\") \n",
        "print(f\"Суммарная длина ограды сотавляет {np.round(2*result.x[0]+result.x[1], 3)} метров\")\n"
      ],
      "metadata": {
        "colab": {
          "base_uri": "https://localhost:8080/"
        },
        "id": "WW4zKs_bjmU1",
        "outputId": "234fe5ae-41c8-451b-a86b-73433fbb643e"
      },
      "execution_count": 19,
      "outputs": [
        {
          "output_type": "stream",
          "name": "stdout",
          "text": [
            "Длина стенок ограды 2х 22.361 метров и 1х 44.721 метров.\n",
            "Суммарная длина ограды сотавляет 89.443 метров\n"
          ]
        }
      ]
    }
  ]
}